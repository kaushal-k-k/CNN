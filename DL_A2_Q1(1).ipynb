{
  "nbformat": 4,
  "nbformat_minor": 0,
  "metadata": {
    "colab": {
      "name": "DL_A2_Q1.ipynb",
      "provenance": [],
      "collapsed_sections": []
    },
    "kernelspec": {
      "name": "python3",
      "display_name": "Python 3"
    },
    "language_info": {
      "name": "python"
    }
  },
  "cells": [
    {
      "cell_type": "code",
      "metadata": {
        "id": "a5DnJmDTUI37"
      },
      "source": [
        "# %pip install wandb -q\n",
        "import glob\n",
        "import numpy as np\n",
        "import math\n",
        "import pandas as pd\n",
        "from random import sample\n",
        "import random\n",
        "from bisect import bisect\n",
        "from __future__ import print_function\n",
        "import keras\n",
        "import random\n",
        "from keras.models import Sequential\n",
        "from keras.layers import Dense, Dropout, Flatten\n",
        "from keras.layers import Conv2D, MaxPooling2D\n",
        "from keras.preprocessing.image import ImageDataGenerator\n",
        "from keras.layers import BatchNormalization\n",
        "from keras.callbacks import EarlyStopping\n",
        "from keras.regularizers import l2\n",
        "from keras import Input\n",
        "from keras import backend as K\n",
        "# import wandb\n",
        "# from wandb.keras import WandbCallback\n",
        "import matplotlib.pyplot as plt\n",
        "%matplotlib inline \n",
        "import cv2\n",
        "random.seed(7)\n"
      ],
      "execution_count": null,
      "outputs": []
    },
    {
      "cell_type": "code",
      "metadata": {
        "id": "ZNaTR8agUTv4"
      },
      "source": [
        "img_size = 300\n",
        "n_class = 10\n",
        "\n"
      ],
      "execution_count": null,
      "outputs": []
    },
    {
      "cell_type": "code",
      "metadata": {
        "id": "KGZLWSH2UXtt"
      },
      "source": [
        "def create_model(n_filters):\n",
        "\n",
        "  input_shape = (img_size,img_size,3)\n",
        "  kernel_size = (3,3)\n",
        "  pool_size = (3,3)\n",
        "  lr = 0.0005\n",
        "  activation = 'relu'\n",
        "  dense_n = 1024\n",
        "  model = Sequential()\n",
        "\n",
        "  model.add(Conv2D(n_filters[0], kernel_size=kernel_size,\n",
        "                  activation=activation,\n",
        "                  input_shape=input_shape))\n",
        "  # if (batchnormalize) : model.add(BatchNormalization())\n",
        "  model.add(MaxPooling2D(pool_size=pool_size))\n",
        "\n",
        "  model.add(Conv2D(n_filters[1], kernel_size=kernel_size,\n",
        "                  activation=activation))\n",
        "  # if (batchnormalize) : model.add(BatchNormalization())\n",
        "  model.add(MaxPooling2D(pool_size=pool_size))\n",
        "  # model.add(Dropout(dropout))\n",
        "\n",
        "  model.add(Conv2D(n_filters[2], kernel_size=kernel_size,\n",
        "                  activation=activation))\n",
        "  # if (batchnormalize) : model.add(BatchNormalization())\n",
        "  model.add(MaxPooling2D(pool_size=pool_size))\n",
        "  # model.add(Dropout(dropout))\n",
        "\n",
        "\n",
        "  model.add(Conv2D(n_filters[3], kernel_size=kernel_size,\n",
        "                  activation=activation, padding='same' ))\n",
        "  # if (batchnormalize) : model.add(BatchNormalization())\n",
        "  model.add(MaxPooling2D(pool_size=pool_size))\n",
        "  # model.add(Dropout(dropout))\n",
        "\n",
        "  model.add(Conv2D(n_filters[4], kernel_size=kernel_size,\n",
        "                  activation=activation,padding='same'))\n",
        "  # if (batchnormalize) : model.add(BatchNormalization())\n",
        "  model.add(MaxPooling2D(pool_size=pool_size))\n",
        "  # model.add(Dropout(dropout))\n",
        "\n",
        " \n",
        "\n",
        "\n",
        "  model.add(Flatten())\n",
        "\n",
        "  model.add(Dense(dense_n, activation=activation))\n",
        "  \n",
        "  model.add(Dense(n_class, activation='softmax'))\n",
        "\n",
        "  return model"
      ],
      "execution_count": null,
      "outputs": []
    },
    {
      "cell_type": "code",
      "metadata": {
        "id": "qzJbHW1KVFTC"
      },
      "source": [
        "m = create_model([64,64,64,64,64])"
      ],
      "execution_count": null,
      "outputs": []
    },
    {
      "cell_type": "code",
      "metadata": {
        "colab": {
          "base_uri": "https://localhost:8080/"
        },
        "id": "F9zMTLtyVNqm",
        "outputId": "bb0d26c5-ac42-43dc-eeda-22107f79eebd"
      },
      "source": [
        "m.summary()"
      ],
      "execution_count": null,
      "outputs": [
        {
          "output_type": "stream",
          "text": [
            "Model: \"sequential\"\n",
            "_________________________________________________________________\n",
            "Layer (type)                 Output Shape              Param #   \n",
            "=================================================================\n",
            "conv2d (Conv2D)              (None, 298, 298, 64)      1792      \n",
            "_________________________________________________________________\n",
            "max_pooling2d (MaxPooling2D) (None, 99, 99, 64)        0         \n",
            "_________________________________________________________________\n",
            "conv2d_1 (Conv2D)            (None, 97, 97, 64)        36928     \n",
            "_________________________________________________________________\n",
            "max_pooling2d_1 (MaxPooling2 (None, 32, 32, 64)        0         \n",
            "_________________________________________________________________\n",
            "conv2d_2 (Conv2D)            (None, 30, 30, 32)        18464     \n",
            "_________________________________________________________________\n",
            "max_pooling2d_2 (MaxPooling2 (None, 10, 10, 32)        0         \n",
            "_________________________________________________________________\n",
            "conv2d_3 (Conv2D)            (None, 10, 10, 32)        9248      \n",
            "_________________________________________________________________\n",
            "max_pooling2d_3 (MaxPooling2 (None, 3, 3, 32)          0         \n",
            "_________________________________________________________________\n",
            "conv2d_4 (Conv2D)            (None, 3, 3, 16)          4624      \n",
            "_________________________________________________________________\n",
            "max_pooling2d_4 (MaxPooling2 (None, 1, 1, 16)          0         \n",
            "_________________________________________________________________\n",
            "flatten (Flatten)            (None, 16)                0         \n",
            "_________________________________________________________________\n",
            "dense (Dense)                (None, 1024)              17408     \n",
            "_________________________________________________________________\n",
            "dense_1 (Dense)              (None, 10)                10250     \n",
            "=================================================================\n",
            "Total params: 98,714\n",
            "Trainable params: 98,714\n",
            "Non-trainable params: 0\n",
            "_________________________________________________________________\n"
          ],
          "name": "stdout"
        }
      ]
    }
  ]
}
